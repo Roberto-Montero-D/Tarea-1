{
 "cells": [
  {
   "cell_type": "markdown",
   "metadata": {},
   "source": [
    "# Tarea 1 - Pandas y Matplotlib\n",
    "\n",
    "- Utilizando los datos de exoplanetas de la Sesión 2, haga lo siguiente\n",
    "1. Cree un nuevo dataframe\n",
    "2. Utilice el groupby para agrupar los planetas por su método de descubrimiento.\n",
    "3. Utilizando un groupby().agg(), agrupe los planetas por su método de descubrimiento, y agreguelos por sus masas.\n",
    "4. Cree un gráfico de barras donde cada barra sea uno de los métodos de descubrimiento, y el eje y sea el total de las masas de los planetas descubiertos por ese método."
   ]
  },
  {
   "cell_type": "markdown",
   "metadata": {},
   "source": [
    "<img src='Tarea1-1.png' width=300>"
   ]
  },
  {
   "cell_type": "markdown",
   "metadata": {},
   "source": [
    "<img src='Tarea1-2.png' width=300>"
   ]
  },
  {
   "cell_type": "code",
   "execution_count": 174,
   "metadata": {},
   "outputs": [],
   "source": [
    "import pandas as pd\n",
    "import matplotlib.pyplot as plt\n",
    "data = pd.read_csv('oec.csv')"
   ]
  },
  {
   "cell_type": "code",
   "execution_count": 175,
   "metadata": {},
   "outputs": [
    {
     "data": {
      "text/html": [
       "<div>\n",
       "<style scoped>\n",
       "    .dataframe tbody tr th:only-of-type {\n",
       "        vertical-align: middle;\n",
       "    }\n",
       "\n",
       "    .dataframe tbody tr th {\n",
       "        vertical-align: top;\n",
       "    }\n",
       "\n",
       "    .dataframe thead th {\n",
       "        text-align: right;\n",
       "    }\n",
       "</style>\n",
       "<table border=\"1\" class=\"dataframe\">\n",
       "  <thead>\n",
       "    <tr style=\"text-align: right;\">\n",
       "      <th></th>\n",
       "      <th>massByMethod</th>\n",
       "    </tr>\n",
       "    <tr>\n",
       "      <th>DiscoveryMethod</th>\n",
       "      <th></th>\n",
       "    </tr>\n",
       "  </thead>\n",
       "  <tbody>\n",
       "    <tr>\n",
       "      <th>RV</th>\n",
       "      <td>2234.642767</td>\n",
       "    </tr>\n",
       "    <tr>\n",
       "      <th>imaging</th>\n",
       "      <td>601.603500</td>\n",
       "    </tr>\n",
       "    <tr>\n",
       "      <th>microlensing</th>\n",
       "      <td>73.603113</td>\n",
       "    </tr>\n",
       "    <tr>\n",
       "      <th>timing</th>\n",
       "      <td>175.423263</td>\n",
       "    </tr>\n",
       "    <tr>\n",
       "      <th>transit</th>\n",
       "      <td>572.687141</td>\n",
       "    </tr>\n",
       "  </tbody>\n",
       "</table>\n",
       "</div>"
      ],
      "text/plain": [
       "                 massByMethod\n",
       "DiscoveryMethod              \n",
       "RV                2234.642767\n",
       "imaging            601.603500\n",
       "microlensing        73.603113\n",
       "timing             175.423263\n",
       "transit            572.687141"
      ]
     },
     "execution_count": 175,
     "metadata": {},
     "output_type": "execute_result"
    }
   ],
   "source": [
    "mass_by_method = pd.DataFrame(data.groupby('DiscoveryMethod').agg({'PlanetaryMassJpt':'sum'})).rename(columns={'PlanetaryMassJpt':'massByMethod'})   \n",
    "mass_by_method                 "
   ]
  },
  {
   "cell_type": "code",
   "execution_count": 176,
   "metadata": {},
   "outputs": [
    {
     "data": {
      "text/plain": [
       "<BarContainer object of 5 artists>"
      ]
     },
     "execution_count": 176,
     "metadata": {},
     "output_type": "execute_result"
    },
    {
     "data": {
      "image/png": "[encoded data removed]",
      "text/plain": [
       "<Figure size 432x288 with 1 Axes>"
      ]
     },
     "metadata": {
      "needs_background": "light"
     },
     "output_type": "display_data"
    }
   ],
   "source": [
    "pltdata = mass_by_method.reset_index()\n",
    "plt.bar(x = pltdata['DiscoveryMethod'], height = pltdata['massByMethod'])"
   ]
  }
 ],
 "metadata": {
  "kernelspec": {
   "display_name": "Python 3",
   "language": "python",
   "name": "python3"
  },
  "language_info": {
   "codemirror_mode": {
    "name": "ipython",
    "version": 3
   },
   "file_extension": ".py",
   "mimetype": "text/x-python",
   "name": "python",
   "nbconvert_exporter": "python",
   "pygments_lexer": "ipython3",
   "version": "3.8.5"
  }
 },
 "nbformat": 4,
 "nbformat_minor": 4
}
